{
 "metadata": {
  "name": "",
  "signature": "sha256:1007322a969b2053db6bc0840c13ddd73f572b7ef4230135626f7065bf84dcd3"
 },
 "nbformat": 3,
 "nbformat_minor": 0,
 "worksheets": [
  {
   "cells": [
    {
     "cell_type": "heading",
     "level": 1,
     "metadata": {},
     "source": [
      "Stiil 1"
     ]
    },
    {
     "cell_type": "heading",
     "level": 4,
     "metadata": {},
     "source": [
      "Stiil 2"
     ]
    },
    {
     "cell_type": "heading",
     "level": 3,
     "metadata": {},
     "source": [
      "Stiil 3"
     ]
    },
    {
     "cell_type": "code",
     "collapsed": false,
     "input": [
      "# 3. \u00dclesanne\n",
      "q = str(\"string\") \n",
      "w = int(42.1234123412341234)\n",
      "e = float(2 ** -0.5)\n",
      "r = 2 ** 10 >= 1000\n",
      "t = [\"one\",\"two\",\"three\",\"four\"]\n",
      "print a\n",
      "print b\n",
      "print c\n",
      "print d\n",
      "for index, item in enumerate(e):\n",
      "    print index, item"
     ],
     "language": "python",
     "metadata": {},
     "outputs": [
      {
       "output_type": "stream",
       "stream": "stdout",
       "text": [
        "string\n",
        "42\n",
        "0.707106781187\n",
        "True\n",
        "0 one\n",
        "1 two\n",
        "2 three\n",
        "3 four\n"
       ]
      }
     ],
     "prompt_number": 22
    },
    {
     "cell_type": "code",
     "collapsed": false,
     "input": [
      "# 4. \u00dclesanne\n",
      "a = (float(91) / float (3))**2  \n",
      "print a\n",
      "\n",
      "b = (127 // 5) % 7\n",
      "print b\n",
      "\n",
      "c = not 3 == 4 or 3 < 4\n",
      "print c\n",
      "\n",
      "d1 = \"Python is a widely used general-purpose, high-level programming language. \"\n",
      "d2 = \"Its design philosophy emphasizes code readability\"\n",
      "print d1 +  \"\\n\" + d2\n",
      "print \"Python\" in d1 +  \"\\n\" + d2\n",
      "\n",
      "set1 = {\"rock\", \"paper\", \"scissors\"}\n",
      "set2 = {\"lizard\", \"spock\"}\n",
      "\n",
      "e = \"lizard\" in set1 ^ set2 \n",
      "print e\n",
      "# 5. \u00fclesanne\n",
      "muutuja = 5\n",
      "print \"muutuja =\", muutuja\n",
      "\n"
     ],
     "language": "python",
     "metadata": {},
     "outputs": [
      {
       "output_type": "stream",
       "stream": "stdout",
       "text": [
        "920.111111111\n",
        "4\n",
        "True\n",
        "Python is a widely used general-purpose, high-level programming language. \n",
        "Its design philosophy emphasizes code readability\n",
        "True\n",
        "True\n",
        "muutuja = 5\n"
       ]
      }
     ],
     "prompt_number": 107
    },
    {
     "cell_type": "code",
     "collapsed": false,
     "input": [],
     "language": "python",
     "metadata": {},
     "outputs": []
    }
   ],
   "metadata": {}
  }
 ]
}